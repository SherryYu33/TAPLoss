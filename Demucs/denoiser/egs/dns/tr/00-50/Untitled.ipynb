{
 "cells": [
  {
   "cell_type": "code",
   "execution_count": 1,
   "id": "8a14d669",
   "metadata": {},
   "outputs": [],
   "source": [
    "import csv\n",
    "import json\n",
    "import glob\n",
    "import librosa\n",
    "import numpy as np\n",
    "import matplotlib.pyplot as plt\n",
    "import os\n",
    "from tqdm.notebook import tqdm\n",
    "import soundfile as sf\n",
    "import glob\n",
    "from numpy import *\n",
    "import scipy"
   ]
  },
  {
   "cell_type": "code",
   "execution_count": 21,
   "id": "7ed58d25",
   "metadata": {},
   "outputs": [],
   "source": [
    "clean_json = open('clean.json')\n",
    "clean = json.load(clean_json)\n",
    "for i,l in enumerate(clean):\n",
    "    l[0] = \"/media/konan/DNS\" + l[0].split(\"data\")[1]\n",
    "\n",
    "with open(\"new_clean.json\", \"w\") as outfile:\n",
    "    outfile.write(json.dumps(clean))"
   ]
  },
  {
   "cell_type": "code",
   "execution_count": 2,
   "id": "c5dd3cc9",
   "metadata": {},
   "outputs": [],
   "source": [
    "noisy_json = open('noisy.json')\n",
    "noisy = json.load(noisy_json)\n",
    "for i,p in enumerate(noisy):\n",
    "    p[0] = \"/media/konan/DNS\" + p[0].split(\"data\")[1]\n",
    "\n",
    "with open(\"new_noisy.json\", \"w\") as outfile:\n",
    "    outfile.write(json.dumps(noisy))"
   ]
  },
  {
   "cell_type": "code",
   "execution_count": null,
   "id": "cef2e402",
   "metadata": {},
   "outputs": [],
   "source": []
  }
 ],
 "metadata": {
  "kernelspec": {
   "display_name": "PyTorch-RAPIDS (3.9)",
   "language": "python",
   "name": "pytorch_and-rapids"
  },
  "language_info": {
   "codemirror_mode": {
    "name": "ipython",
    "version": 3
   },
   "file_extension": ".py",
   "mimetype": "text/x-python",
   "name": "python",
   "nbconvert_exporter": "python",
   "pygments_lexer": "ipython3",
   "version": "3.9.12"
  }
 },
 "nbformat": 4,
 "nbformat_minor": 5
}
